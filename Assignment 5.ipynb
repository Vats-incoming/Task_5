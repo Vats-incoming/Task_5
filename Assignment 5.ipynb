{
 "cells": [
  {
   "cell_type": "markdown",
   "id": "85c68da8",
   "metadata": {},
   "source": [
    "# TASK 5\n",
    "##  REFERRAL CODE: SIRSS2247\n",
    "## NAME-VATAN GUPTA"
   ]
  },
  {
   "cell_type": "markdown",
   "id": "736eaefb",
   "metadata": {},
   "source": [
    "##Q1. Given a list of integers, write a function to return the sum of all prime numbers in that\n",
    "list."
   ]
  },
  {
   "cell_type": "code",
   "execution_count": 18,
   "id": "6f1245a3",
   "metadata": {},
   "outputs": [
    {
     "name": "stdout",
     "output_type": "stream",
     "text": [
      "Enter a list of numbers with equal spaces 5 4 3 7 8 \n",
      "15\n"
     ]
    }
   ],
   "source": [
    "def prm(l):\n",
    "    for i in l:\n",
    "        if i<=1:\n",
    "            l.remove(i)\n",
    "    for i in l:\n",
    "        for j in range(2,i):\n",
    "            if i%j==0:\n",
    "              l.remove(i)\n",
    "              break\n",
    "    a=sum(l)           \n",
    "    return a\n",
    "l=list(map(int,input(\"Enter a list of numbers with equal spaces\").strip().split()))\n",
    "print(prm(l))"
   ]
  },
  {
   "cell_type": "markdown",
   "id": "37707183",
   "metadata": {},
   "source": [
    "##Q2. Given a list of integers, write a function to check whether the list is strictly increasing or\n",
    "not."
   ]
  },
  {
   "cell_type": "code",
   "execution_count": 19,
   "id": "da2df0c1",
   "metadata": {},
   "outputs": [
    {
     "name": "stdout",
     "output_type": "stream",
     "text": [
      "Enter a list of numbers with equal spaces6 5 -2 3 6 1\n",
      "False\n"
     ]
    }
   ],
   "source": [
    "def strct(l):\n",
    "  flag=True\n",
    "  for i in range(0,len(l)):\n",
    "     for j in range(i+1,len(l)):\n",
    "        if l[j]<=l[i]:\n",
    "          flag=False\n",
    "          break\n",
    "     break\n",
    "  return flag\n",
    "l=list(map(int,input(\"Enter a list of numbers with equal spaces\").strip().split()))\n",
    "print(strct(l))"
   ]
  },
  {
   "cell_type": "markdown",
   "id": "0843aa9b",
   "metadata": {},
   "source": [
    "##Q3.Write a function to check whether a given list is expanding or not (the difference\n",
    "between adjacent elements should keep on increasing)."
   ]
  },
  {
   "cell_type": "code",
   "execution_count": 20,
   "id": "6b261a5c",
   "metadata": {},
   "outputs": [
    {
     "name": "stdout",
     "output_type": "stream",
     "text": [
      "Enter a list of numbers with equal spaces7 8 9 \n",
      "The given list is expanding\n"
     ]
    }
   ],
   "source": [
    "def incr(strct,l):\n",
    "    return strct(l)\n",
    "l=list(map(int,input(\"Enter a list of numbers with equal spaces\").strip().split()))\n",
    "a=incr(strct,l)\n",
    "if a==True:\n",
    "    print(\"The given list is expanding\")\n",
    "else:\n",
    "    print(\"The given list is not expanding\")\n",
    "    "
   ]
  },
  {
   "cell_type": "markdown",
   "id": "a39ef0fa",
   "metadata": {},
   "source": [
    "##Q4. Write a function to calculate all permutations of a given string. (Without using itertools)"
   ]
  },
  {
   "cell_type": "code",
   "execution_count": 21,
   "id": "60fb5b59",
   "metadata": {},
   "outputs": [
    {
     "name": "stdout",
     "output_type": "stream",
     "text": [
      "Enter the string : REG\n",
      "REG\n",
      "RGE\n",
      "ERG\n",
      "EGR\n",
      "GRE\n",
      "GER\n"
     ]
    }
   ],
   "source": [
    "def perm(s,cn):\n",
    "    if(len(s)==0):\n",
    "        print(cn)\n",
    "    for i in range(len(s)):\n",
    "        ncn=cn+s[i]\n",
    "        rst=s[:i]+s[i+1:]\n",
    "        perm(rst,ncn)\n",
    "cn= \"\"\n",
    "s = input(\"Enter the string : \")\n",
    "perm(s,cn)\n",
    "    "
   ]
  },
  {
   "cell_type": "code",
   "execution_count": null,
   "id": "00b471df",
   "metadata": {},
   "outputs": [],
   "source": []
  }
 ],
 "metadata": {
  "kernelspec": {
   "display_name": "Python 3",
   "language": "python",
   "name": "python3"
  },
  "language_info": {
   "codemirror_mode": {
    "name": "ipython",
    "version": 3
   },
   "file_extension": ".py",
   "mimetype": "text/x-python",
   "name": "python",
   "nbconvert_exporter": "python",
   "pygments_lexer": "ipython3",
   "version": "3.8.8"
  }
 },
 "nbformat": 4,
 "nbformat_minor": 5
}
